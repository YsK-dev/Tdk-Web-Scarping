{
 "cells": [
  {
   "metadata": {
    "ExecuteTime": {
     "end_time": "2024-07-04T18:56:22.261805Z",
     "start_time": "2024-07-04T18:56:22.119036Z"
    }
   },
   "cell_type": "code",
   "source": [
    "import numpy as np\n",
    "import sys\n",
    "import matplotlib\n",
    "#import pandas as KungfuPanda ahhahahhahah"
   ],
   "id": "596646cd77321126",
   "outputs": [],
   "execution_count": 1
  },
  {
   "metadata": {},
   "cell_type": "markdown",
   "source": "I Want to chechk My Versions soo \n",
   "id": "85db1548744165bc"
  },
  {
   "metadata": {
    "ExecuteTime": {
     "end_time": "2024-07-04T18:58:30.369093Z",
     "start_time": "2024-07-04T18:58:30.364927Z"
    }
   },
   "cell_type": "code",
   "source": [
    "print(\"Numpy Version: \", np.__version__)\n",
    "print(\"Matplotlib Version: \", matplotlib.__version__)\n",
    "print(\"python VErsion:  \",sys.version)\n"
   ],
   "id": "7252a6980b672474",
   "outputs": [
    {
     "name": "stdout",
     "output_type": "stream",
     "text": [
      "Numpy Version:  1.26.4\n",
      "Matplotlib Version:  3.8.3\n",
      "python VErsion:   3.11.5 (main, Sep 11 2023, 08:31:25) [Clang 14.0.6 ]\n"
     ]
    }
   ],
   "execution_count": 5
  },
  {
   "metadata": {
    "ExecuteTime": {
     "end_time": "2024-07-04T20:04:33.873429Z",
     "start_time": "2024-07-04T20:04:33.867710Z"
    }
   },
   "cell_type": "code",
   "source": [
    "inputs=[1,2,3,2.5]\n",
    "\n",
    "weights=[[0.2,0.8,-0.5,1.0],\n",
    "         [0.5,-0.91,0.26,-0.5],\n",
    "         [-0.26,-0.27,0.17,0.87]]\n",
    "\n",
    "biases=[2,3,0.5]\n",
    "\n",
    "\"\"\"birDeger=-0.5\n",
    "weight=0.7\n",
    "bias=0.7\n",
    "\n",
    "print(birDeger*weight)\n",
    "print(\"----------------------\\n\")\n",
    "print(birDeger+bias)\n",
    "\"\"\"\n",
    "\n",
    "\n",
    "\"\"\"\n",
    "#Neuronla oynamacalar h 🧠\n",
    "layerOutputs=[]#outputs of current layer mevcut layerın çıktısı\n",
    "for neuronsWeights,neuronBiases in zip(weights,biases):\n",
    "    neuronOutput=0#o neuronun çıktısı\n",
    "    for nInput,weight in zip(inputs,neuronsWeights):\n",
    "        neuronOutput+=nInput*weight\n",
    "    neuronOutput=neuronOutput+neuronBiases\n",
    "    layerOutputs.append(neuronOutput)\n",
    "print(layerOutputs)\n",
    "\"\"\"\n",
    "\n",
    "\n",
    "\n"
   ],
   "id": "909632189d2160",
   "outputs": [
    {
     "data": {
      "text/plain": [
       "'\\n#Neuronla oynamacalar h 🧠\\nlayerOutputs=[]#outputs of current layer mevcut layerın çıktısı\\nfor neuronsWeights,neuronBiases in zip(weights,biases):\\n    neuronOutput=0#o neuronun çıktısı\\n    for nInput,weight in zip(inputs,neuronsWeights):\\n        neuronOutput+=nInput*weight\\n    neuronOutput=neuronOutput+neuronBiases\\n    layerOutputs.append(neuronOutput)\\nprint(layerOutputs)'"
      ]
     },
     "execution_count": 23,
     "metadata": {},
     "output_type": "execute_result"
    }
   ],
   "execution_count": 23
  },
  {
   "metadata": {},
   "cell_type": "markdown",
   "source": "Numpy ile takılmacalar ",
   "id": "27d6cb2536010ce9"
  },
  {
   "metadata": {
    "ExecuteTime": {
     "end_time": "2024-07-04T20:21:26.358881Z",
     "start_time": "2024-07-04T20:21:26.354053Z"
    }
   },
   "cell_type": "code",
   "source": [
    "import numpy as np\n",
    "weights=[[0.2,0.8,-0.5,1.0],\n",
    "         [0.5,-0.91,0.26,-0.5],\n",
    "         [-0.26,-0.27,0.17,0.87]]\n",
    "\n",
    "biases=[2,3,0.5]\n",
    "\n",
    "bias=2\n",
    "\n",
    "output=np.dot(weights,inputs)+biases\n",
    "print(output)"
   ],
   "id": "77a2343a50cb1edd",
   "outputs": [
    {
     "name": "stdout",
     "output_type": "stream",
     "text": [
      "[4.8   1.21  2.385]\n"
     ]
    }
   ],
   "execution_count": 30
  },
  {
   "metadata": {},
   "cell_type": "markdown",
   "source": "Devammm anlıyorum ",
   "id": "8c5f7f9bb7ea5108"
  },
  {
   "metadata": {
    "ExecuteTime": {
     "end_time": "2024-07-04T22:38:15.391345Z",
     "start_time": "2024-07-04T22:38:15.386245Z"
    }
   },
   "cell_type": "code",
   "source": [
    "import numpy as np\n",
    "inputs=[[1,2,3,2.5],\n",
    "        [2.0,5.0,-1.0,2.0],\n",
    "        [-1.5,2.7,3.3,-0.8]]\n",
    "\n",
    "weights=[[0.2,0.8,-0.5,1.0],\n",
    "         [0.5,-0.91,0.26,-0.5],\n",
    "         [-0.26,-0.27,0.17,0.87]]\n",
    "\n",
    "biases=[2,3,0.5]\n",
    "\n",
    "#ikinicisi geliyor \n",
    "weights2=[[0.1,-0.14,0.5],\n",
    "         [-0.5,0.12,-0.33],\n",
    "         [-0.44,0.73,-0.13]]\n",
    "\n",
    "biases2=[-1,2,-0.5]\n",
    "\n",
    "#matris işlemleri için adjustmentlar \n",
    "\n",
    "\n",
    "\n",
    "\n",
    "layer1Output=np.dot(inputs,np.array(weights).T)+biases\n",
    "#Transpozunu Alıyorum )+biases#.reshape(-1,1) buna ihtiyaç yok şimdilik \n",
    "print(layer1Output)\n",
    "#diğer layer dikkat birinin outputu diğerini inputu \n",
    "layer2Output=np.dot(layer1Output,np.array(weights2).T)+biases2\n",
    "print(\"\\n--------Görmek için-------------\\n\")\n",
    "print(layer2Output)\n"
   ],
   "id": "2aa76f862a388480",
   "outputs": [
    {
     "name": "stdout",
     "output_type": "stream",
     "text": [
      "[[ 4.8    1.21   2.385]\n",
      " [ 8.9   -1.81   0.2  ]\n",
      " [ 1.41   1.051  0.026]]\n",
      "\n",
      "--------Görmek için-------------\n",
      "\n",
      "[[ 0.5031  -1.04185 -2.03875]\n",
      " [ 0.2434  -2.7332  -5.7633 ]\n",
      " [-0.99314  1.41254 -0.35655]]\n"
     ]
    }
   ],
   "execution_count": 55
  },
  {
   "metadata": {
    "ExecuteTime": {
     "end_time": "2024-07-04T23:25:46.054034Z",
     "start_time": "2024-07-04T23:25:46.047957Z"
    }
   },
   "cell_type": "code",
   "source": [
    "import numpy as np\n",
    "np.random.seed(0)\n",
    "X=[[1,2,3,2.5],\n",
    "   [2.0,5.0,-1.0,2.0],\n",
    "   [-1.5,2.7,3.3,-0.8]]\n",
    "\n",
    "class layerDense:\n",
    "    def __init__(self,nInputs,nNeurons):\n",
    "        self.weights=0.10*np.random.randn(nInputs,nNeurons)\n",
    "        self.biases=np.zeros((1,nNeurons))\n",
    "    def forward(self,inputs):\n",
    "        self.output=np.dot(inputs,self.weights)+self.biases\n",
    "    \n",
    "    \n",
    "layer1=layerDense(4,5)\n",
    "layer2=layerDense(5,2)\n",
    "layer1.forward(X)\n",
    "print(\"OUTPUT--> \\n\",layer1.output)\n",
    "print(\"\\n----------------\\n\")\n",
    "\n",
    "layer2.forward(layer1.output)\n",
    "print(\"OUTPUT--> \\n\",layer2.output)\n",
    "print(\"\\n----------------\\n\")\n",
    "\n",
    "\"\"\"\n",
    "print(layer1.weights)\n",
    "print(\"---------------------\\n\")\n",
    "print(layer1.biases)\n",
    "print(\"---------------------\\n\")\n",
    "\n",
    "\n",
    "print(\"---------------------\\n\")\n",
    "\n",
    "print(layer1)\n",
    "\n",
    "\"\"\"\n"
   ],
   "id": "874dfb1b5b5b2fb",
   "outputs": [
    {
     "name": "stdout",
     "output_type": "stream",
     "text": [
      "OUTPUT--> \n",
      " [[ 0.10758131  1.03983522  0.24462411  0.31821498  0.18851053]\n",
      " [-0.08349796  0.70846411  0.00293357  0.44701525  0.36360538]\n",
      " [-0.50763245  0.55688422  0.07987797 -0.34889573  0.04553042]]\n",
      "\n",
      "----------------\n",
      "\n",
      "OUTPUT--> \n",
      " [[ 0.148296   -0.08397602]\n",
      " [ 0.14100315 -0.01340469]\n",
      " [ 0.20124979 -0.07290616]]\n",
      "\n",
      "----------------\n",
      "\n"
     ]
    },
    {
     "data": {
      "text/plain": [
       "'\\nprint(layer1.weights)\\nprint(\"---------------------\\n\")\\nprint(layer1.biases)\\nprint(\"---------------------\\n\")\\n\\n\\nprint(\"---------------------\\n\")\\n\\nprint(layer1)\\n\\n'"
      ]
     },
     "execution_count": 86,
     "metadata": {},
     "output_type": "execute_result"
    }
   ],
   "execution_count": 86
  },
  {
   "metadata": {
    "ExecuteTime": {
     "end_time": "2024-07-04T23:20:34.762292Z",
     "start_time": "2024-07-04T23:20:34.757812Z"
    }
   },
   "cell_type": "code",
   "source": [
    "import numpy as np\n",
    "#from layer import Layer\n",
    "\n",
    "class Dense:\n",
    "    def __init__(self, input_size, output_size):\n",
    "        self.weights = 0.10*np.random.randn(output_size, input_size)\n",
    "        self.bias = np.random.randn(output_size, 1)\n",
    "\n",
    "    def forward(self, inputs):\n",
    "        self.output=np.dot(inputs,self.weights,) + self.bias\n",
    "       \n",
    "    \n",
    "layer1=Dense(4,5)\n"
   ],
   "id": "af23af41b0b6f4a",
   "outputs": [],
   "execution_count": 82
  },
  {
   "metadata": {},
   "cell_type": "markdown",
   "source": "Using Activation Function ⨐ , So Exciting LOL! ",
   "id": "11560673d9610107"
  },
  {
   "metadata": {
    "ExecuteTime": {
     "end_time": "2024-07-05T16:41:34.670984Z",
     "start_time": "2024-07-05T16:41:34.667897Z"
    }
   },
   "cell_type": "code",
   "source": [
    "import numpy as np\n",
    "np.random.seed(0)\n",
    "\n",
    "X=[[1,2,3,2.5],\n",
    "   [2.0,5.0,-1.0,2.0],\n",
    "   [-1.5,2.7,3.3,-0.8]]\n",
    "\n",
    "inputs=[0,2,-1,3.3,-2.7,1.1,2.2,-100]\n",
    "#empty list for output\n",
    "output=[]\n",
    "output2=[]\n",
    "#Simulating ReLU Here !\n",
    "for i in inputs:\n",
    "    if i>0:\n",
    "        output.append(i)\n",
    "        \n",
    "    elif i<=0:\n",
    "        output.append(0)\n",
    "        \n",
    "#just found another way to simualte Relu\n",
    "for i in inputs:\n",
    "    output2.append(max(0,i))\n",
    "    \n",
    "\n",
    "\n",
    "#Just to see inputs vs outputs up here\n",
    "print(inputs)        \n",
    "print(\"\\n---------------------------------------------------------\\n\")\n",
    "print(output)\n",
    "print(\"\\n---------------------------------------------------------\\n\")\n",
    "print(output2)\n",
    "# see output==output2 just python magic🪄 🦄 🪄 here\n",
    "\n",
    " "
   ],
   "id": "e68fc0dc66987ed4",
   "outputs": [
    {
     "name": "stdout",
     "output_type": "stream",
     "text": [
      "[0, 2, -1, 3.3, -2.7, 1.1, 2.2, -100]\n",
      "\n",
      "---------------------------------------------------------\n",
      "\n",
      "[0, 2, 0, 3.3, 0, 1.1, 2.2, 0]\n",
      "\n",
      "---------------------------------------------------------\n",
      "\n",
      "[0, 2, 0, 3.3, 0, 1.1, 2.2, 0]\n"
     ]
    }
   ],
   "execution_count": 96
  },
  {
   "metadata": {
    "ExecuteTime": {
     "end_time": "2024-07-05T22:21:57.827329Z",
     "start_time": "2024-07-05T22:21:57.819303Z"
    }
   },
   "cell_type": "code",
   "source": [
    "import numpy as np\n",
    "import nnfs\n",
    "#neural network from scracth\n",
    "from nnfs.datasets import spiral_data\n",
    "nnfs.init()\n",
    "\n",
    "np.random.seed(0)\n",
    "X=[[1,2,3,2.5],\n",
    "   [2.0,5.0,-1.0,2.0],\n",
    "   [-1.5,2.7,3.3,-0.8]]\n",
    "\n",
    "X,y=spiral_data(100,3)\n",
    "\n",
    "class layerDense:\n",
    "    def __init__(self,nInputs,nNeurons):\n",
    "        self.weights=0.10*np.random.randn(nInputs,nNeurons)\n",
    "        self.biases=np.zeros((1,nNeurons))\n",
    "    def forward(self,inputs):\n",
    "        self.output=np.dot(inputs,self.weights)+self.biases\n",
    "        \n",
    "class activationReLU:\n",
    "    def forward(self, inputs):\n",
    "        self.output=np.maximum(0,inputs)\n",
    "\n",
    "\n",
    "\n",
    "layer0=layerDense(2,5)\n",
    "activation0=activationReLU()\n",
    "layer0.forward(X)\n",
    "activation0.forward(layer0.output)\n",
    "\n",
    "\n",
    "print(\"OUTPUT--> \\n\",activation0.output)\n",
    "\n",
    "\n",
    "\n",
    " "
   ],
   "id": "20dfae51cdde11e3",
   "outputs": [
    {
     "name": "stdout",
     "output_type": "stream",
     "text": [
      "OUTPUT--> \n",
      " [[0.00000000e+00 0.00000000e+00 0.00000000e+00 0.00000000e+00\n",
      "  0.00000000e+00]\n",
      " [0.00000000e+00 0.00000000e+00 0.00000000e+00 4.65504505e-04\n",
      "  4.56846210e-05]\n",
      " [0.00000000e+00 5.93469958e-05 0.00000000e+00 2.03573116e-04\n",
      "  6.10024377e-04]\n",
      " ...\n",
      " [1.13291524e-01 0.00000000e+00 0.00000000e+00 8.11079666e-02\n",
      "  0.00000000e+00]\n",
      " [1.34588361e-01 0.00000000e+00 3.09493970e-02 5.66337556e-02\n",
      "  0.00000000e+00]\n",
      " [1.07817926e-01 0.00000000e+00 0.00000000e+00 8.72561932e-02\n",
      "  0.00000000e+00]]\n"
     ]
    }
   ],
   "execution_count": 147
  },
  {
   "metadata": {
    "ExecuteTime": {
     "end_time": "2024-07-05T22:21:39.822996Z",
     "start_time": "2024-07-05T22:21:39.816442Z"
    }
   },
   "cell_type": "code",
   "source": [
    "import numpy as np\n",
    "np.random.seed(0)\n",
    "\n",
    "\n",
    "def spiral_data(points, classes):\n",
    "    X = np.zeros((points*classes, 2))\n",
    "    y = np.zeros(points*classes, dtype='uint8')\n",
    "    for class_number in range(classes):\n",
    "        ix = range(points*class_number, points*(class_number+1))\n",
    "        r = np.linspace(0.0, 1, points)  # radius\n",
    "        t = np.linspace(class_number*4, (class_number+1)*4, points) + np.random.randn(points)*0.2\n",
    "        X[ix] = np.c_[r*np.sin(t*2.5), r*np.cos(t*2.5)]\n",
    "        y[ix] = class_number\n",
    "    return X, y\n",
    "\n",
    "import matplotlib as plt\n",
    "print(\"burayaya --------\")\n",
    "X,y=spiral_data(100,3)"
   ],
   "id": "46478cec7f042e1e",
   "outputs": [
    {
     "name": "stdout",
     "output_type": "stream",
     "text": [
      "burayaya --------\n"
     ]
    }
   ],
   "execution_count": 146
  },
  {
   "metadata": {
    "ExecuteTime": {
     "end_time": "2024-07-05T21:59:28.391149Z",
     "start_time": "2024-07-05T21:59:28.323216Z"
    }
   },
   "cell_type": "code",
   "source": [
    "import numpy as np\n",
    "import matplotlib.pyplot as plt\n",
    "\n",
    "np.random.seed(0) #This ensures that the random numbers generated are the same every time you run the code. It helps in making the results reproducible.ı mean helps me to get same result each time\n",
    "\n",
    "#ı am creating the data cretor function isnt great\n",
    "def spiral_data(points, classes):\n",
    "    X = np.zeros((points * classes, 2))\n",
    "    y = np.zeros(points * classes, dtype='uint8')\n",
    "    for class_number in range(classes):\n",
    "        ix = range(points * class_number, points * (class_number + 1))\n",
    "        r = np.linspace(0.0, 1, points)  # radius\n",
    "        t = np.linspace(class_number * 4, (class_number + 1) * 4, points) + np.random.randn(points) * 0.2\n",
    "        X[ix] = np.c_[r * np.sin(t * 2.5), r * np.cos(t * 2.5)]\n",
    "        y[ix] = class_number\n",
    "    return X, y\n",
    "\n",
    "\n",
    "X, y = spiral_data(100, 3)\n",
    "#aslında şunu demek istiyorlar eğer nural ağ bunun fonksiyonunu yapabiliyorsda herşeyi yapar \n",
    "print(\"Meşhur spiral \")\n",
    "# plottting the famous data\n",
    "plt.scatter(X[:, 0], X[:, 1], c=y, cmap=\"brg\")\n",
    "plt.title(\"Spiral Data\")\n",
    "plt.show()\n",
    "\n"
   ],
   "id": "b3b13db65d54019c",
   "outputs": [
    {
     "name": "stdout",
     "output_type": "stream",
     "text": [
      "Meşhur spiral \n"
     ]
    },
    {
     "data": {
      "text/plain": [
       "<Figure size 640x480 with 1 Axes>"
      ],
      "image/png": "[encoded data removed]"
     },
     "metadata": {},
     "output_type": "display_data"
    }
   ],
   "execution_count": 110
  },
  {
   "metadata": {},
   "cell_type": "markdown",
   "source": "SOFTMAX 🍦🥎♾️",
   "id": "362c70469ae72fb0"
  },
  {
   "metadata": {
    "ExecuteTime": {
     "end_time": "2024-07-06T22:46:42.015941Z",
     "start_time": "2024-07-06T22:46:42.012141Z"
    }
   },
   "cell_type": "code",
   "source": [
    "import math\n",
    "layerOutputs=[4.8,1.21,2.385]\n",
    "\n",
    "E=2.718281828446#Euler Number\n",
    "\n",
    "E=math.e#Euler Number this time using lib \n",
    "\n",
    "expValues=[]\n",
    "\n",
    "for output in layerOutputs:\n",
    "    expValues.append((pow(E,output)))\n",
    "    \n",
    "#e^x e^4.8 ,e^1.21,e^2.385 this are exp vlue\n",
    "print(expValues)\n",
    "#ı make summations\n",
    "normBase=sum(expValues)\n",
    "normValues=[]#empty list to store normalizations values\n",
    "    \n",
    "for values in expValues:\n",
    "    normValues.append(values/normBase)\n",
    "    \n",
    "print(normValues) \n",
    "#aproximately 1 thats good\n",
    "print(sum(normValues))\n"
   ],
   "id": "86b20417caf0ba91",
   "outputs": [
    {
     "name": "stdout",
     "output_type": "stream",
     "text": [
      "[121.51041751873483, 3.353484652549023, 10.859062664920513]\n",
      "[0.8952826639572619, 0.024708306782099374, 0.0800090292606387]\n",
      "0.9999999999999999\n"
     ]
    }
   ],
   "execution_count": 159
  },
  {
   "metadata": {
    "ExecuteTime": {
     "end_time": "2024-07-06T22:54:10.588813Z",
     "start_time": "2024-07-06T22:54:10.584082Z"
    }
   },
   "cell_type": "code",
   "source": [
    "import math\n",
    "import numpy as np\n",
    "import nnfs\n",
    "nnfs.init()\n",
    "layerOutputs=[4.8,1.21,2.385]\n",
    "\n",
    "E=2.718281828446#Euler Number\n",
    "\n",
    "E=math.e#Euler Number this time using lib \n",
    "\n",
    "expValues=np.exp(layerOutputs)#heere I see the magic of numpy\n",
    "\n",
    "#e^x e^4.8 ,e^1.21,e^2.385 this are exp vlue\n",
    "print(expValues)\n",
    "#ı make summations\n",
    "normBase=sum(expValues)\n",
    "#numpy saving liveess\n",
    "normValues=expValues/sum(expValues)\n",
    "\n",
    "print(normValues)\n",
    "#aproximately 1 thats good\n",
    "print(sum(normValues))\n"
   ],
   "id": "ad2e078bd98dd9dc",
   "outputs": [
    {
     "name": "stdout",
     "output_type": "stream",
     "text": [
      "[121.51041752   3.35348465  10.85906266]\n",
      "[0.89528266 0.02470831 0.08000903]\n",
      "0.9999999999999999\n"
     ]
    }
   ],
   "execution_count": 165
  },
  {
   "metadata": {
    "ExecuteTime": {
     "end_time": "2024-07-06T23:14:42.623329Z",
     "start_time": "2024-07-06T23:14:42.619138Z"
    }
   },
   "cell_type": "code",
   "source": [
    "import numpy as np\n",
    "import nnfs\n",
    "nnfs.init()\n",
    "layerOutputs=[[4.8,1.21,2.385],\n",
    "              [8.9,-1.81,0.2],\n",
    "              [1.41,1.051,0.026]]\n",
    "\n",
    "expValues=np.exp(layerOutputs)#heere I see the magic of numpy\n",
    "\n",
    "print(\"\\n--------------------------------------------------------------\\n\")\n",
    "print(expValues)\n",
    "print(\"\\n--------------------------------------------------------------\\n\")\n",
    "print(np.sum(layerOutputs,axis=0))#it is for columns\n",
    "print(\"\\n--------------------------------------------------------------\\n\")\n",
    "print(np.sum(layerOutputs,axis=1,keepdims=True))#itis for rows keepdims=True it is like auto transpoze\n",
    "print(\"\\n--------------------------------------------------------------\\n\")\n",
    "\n"
   ],
   "id": "7beedbb71f1ae960",
   "outputs": [
    {
     "name": "stdout",
     "output_type": "stream",
     "text": [
      "\n",
      "--------------------------------------------------------------\n",
      "\n",
      "[[1.21510418e+02 3.35348465e+00 1.08590627e+01]\n",
      " [7.33197354e+03 1.63654137e-01 1.22140276e+00]\n",
      " [4.09595540e+00 2.86051020e+00 1.02634095e+00]]\n",
      "\n",
      "--------------------------------------------------------------\n",
      "\n",
      "[15.11   0.451  2.611]\n",
      "\n",
      "--------------------------------------------------------------\n",
      "\n",
      "[[8.395]\n",
      " [7.29 ]\n",
      " [2.487]]\n",
      "\n",
      "--------------------------------------------------------------\n",
      "\n"
     ]
    }
   ],
   "execution_count": 188
  },
  {
   "metadata": {
    "ExecuteTime": {
     "end_time": "2024-07-06T23:18:59.243037Z",
     "start_time": "2024-07-06T23:18:59.238508Z"
    }
   },
   "cell_type": "code",
   "source": [
    "import numpy as np\n",
    "import nnfs\n",
    "nnfs.init()\n",
    "layerOutputs=[[4.8,1.21,2.385],\n",
    "              [8.9,-1.81,0.2],\n",
    "              [1.41,1.051,0.026]]\n",
    "\n",
    "expValues=np.exp(layerOutputs)#heere I see the magic of numpy\n",
    "normValues=expValues/np.sum(expValues,axis=0,keepdims=True)\n",
    "print(normValues)"
   ],
   "id": "83fa2bcaf841faf0",
   "outputs": [
    {
     "name": "stdout",
     "output_type": "stream",
     "text": [
      "[[1.62935455e-02 5.25818316e-01 8.28505614e-01]\n",
      " [9.83157221e-01 2.56605745e-02 9.31884338e-02]\n",
      " [5.49233860e-04 4.48521109e-01 7.83059518e-02]]\n"
     ]
    }
   ],
   "execution_count": 190
  },
  {
   "metadata": {
    "ExecuteTime": {
     "end_time": "2024-07-07T00:44:14.972616Z",
     "start_time": "2024-07-07T00:44:14.965722Z"
    }
   },
   "cell_type": "code",
   "source": [
    "import numpy as np\n",
    "import nnfs\n",
    "#neural network from scracth\n",
    "from nnfs.datasets import spiral_data\n",
    "nnfs.init()\n",
    "\n",
    "\n",
    "\n",
    "class layerDense:\n",
    "    def __init__(self,nInputs,nNeurons):\n",
    "        self.weights=0.10*np.random.randn(nInputs,nNeurons)\n",
    "        self.biases=np.zeros((1,nNeurons))\n",
    "    def forward(self,inputs):\n",
    "        self.output=np.dot(inputs,self.weights)+self.biases\n",
    "\n",
    "class activationReLU:\n",
    "    def forward(self, inputs):\n",
    "        self.output=np.maximum(0,inputs)\n",
    "#making softmax here\n",
    "\n",
    "\n",
    "class activationSoftMax:\n",
    "    def forward(self, inputs):\n",
    "        expValues = np.exp(inputs - np.max(inputs, axis=1, keepdims=True))\n",
    "        probabilities = expValues / np.sum(expValues, axis=1, keepdims=True)\n",
    "        self.output = probabilities\n",
    "        \n",
    "X,y=spiral_data(100,3)\n",
    "\n",
    "Dense0=layerDense(2,3)\n",
    "activation0=activationReLU()\n",
    "\n",
    "Dense1=layerDense(3,3)\n",
    "activation1=activationSoftMax()\n",
    "\n",
    "Dense0.forward(X)\n",
    "activation0.forward(Dense0.output)\n",
    "\n",
    "Dense1.forward(activation0.output)\n",
    "activation1.forward(Dense1.output)\n",
    "\n",
    "print(activation1.output[:5])\n",
    " "
   ],
   "id": "915644fc9640e928",
   "outputs": [
    {
     "name": "stdout",
     "output_type": "stream",
     "text": [
      "[[0.33333334 0.33333334 0.33333334]\n",
      " [0.33331734 0.33331832 0.33336434]\n",
      " [0.3332888  0.33329153 0.33341965]\n",
      " [0.33325943 0.33326396 0.33347666]\n",
      " [0.33323312 0.33323926 0.33352762]]\n"
     ]
    }
   ],
   "execution_count": 202
  },
  {
   "metadata": {
    "ExecuteTime": {
     "end_time": "2024-07-07T00:42:49.440403Z",
     "start_time": "2024-07-07T00:42:49.433446Z"
    }
   },
   "cell_type": "code",
   "source": [
    "import numpy as np\n",
    "import nnfs\n",
    "from nnfs.datasets import spiral_data\n",
    "nnfs.init()\n",
    "\n",
    "class layerDense:\n",
    "    def __init__(self, nInputs, nNeurons):\n",
    "        self.weights = 0.10 * np.random.randn(nInputs, nNeurons)\n",
    "        self.biases = np.zeros((1, nNeurons))\n",
    "\n",
    "    def forward(self, inputs):\n",
    "        self.output = np.dot(inputs, self.weights) + self.biases\n",
    "\n",
    "class activationReLU:\n",
    "    def forward(self, inputs):\n",
    "        self.output = np.maximum(0, inputs)\n",
    "\n",
    "class activationSoftMax:\n",
    "    def forward(self, inputs):\n",
    "        expValues = np.exp(inputs - np.max(inputs, axis=1, keepdims=True))\n",
    "        probabilities = expValues / np.sum(expValues, axis=1, keepdims=True)\n",
    "        self.output = probabilities\n",
    "\n",
    "X, y = spiral_data(100, 3)\n",
    "\n",
    "Dense0 = layerDense(2, 3)\n",
    "activation0 = activationReLU()\n",
    "\n",
    "Dense1 = layerDense(3, 3)\n",
    "activation1 = activationSoftMax()\n",
    "\n",
    "Dense0.forward(X)\n",
    "activation0.forward(Dense0.output)\n",
    "\n",
    "Dense1.forward(activation0.output)\n",
    "activation1.forward(Dense1.output)\n",
    "\n",
    "print(activation1.output[:5])\n"
   ],
   "id": "5ecc01853cad7e33",
   "outputs": [
    {
     "name": "stdout",
     "output_type": "stream",
     "text": [
      "[[0.33333334 0.33333334 0.33333334]\n",
      " [0.33331734 0.33331832 0.33336434]\n",
      " [0.3332888  0.33329153 0.33341965]\n",
      " [0.33325943 0.33326396 0.33347666]\n",
      " [0.33323312 0.33323926 0.33352762]]\n"
     ]
    }
   ],
   "execution_count": 201
  },
  {
   "metadata": {
    "ExecuteTime": {
     "end_time": "2024-07-10T01:10:16.158746Z",
     "start_time": "2024-07-10T01:10:14.690382Z"
    }
   },
   "cell_type": "code",
   "source": [
    "def fibonacci():\n",
    "    n=int(input(\"please enter what fib num you want\"))#taking input\n",
    "    if n<=0:\n",
    "        print(\"This man is no condition too **** a sheep\")#a little making sure about fib works fine\n",
    "        return\n",
    "    f,c=1,1#first fib values\n",
    "    fib=[f,c]#an array to store fib\n",
    "    for b in range(2, n):#an for loop to do the math\n",
    "        f, c = c, f+ c#the logic\n",
    "        fib.append(c)#append operation \n",
    "\n",
    "    print(f\"Fibo no at {n} number is --> {fib[-1]}\")\n",
    "    print(f\"the seq you want ı assume {n} is --> {fib}\")\n",
    "fibonacci()#calling\n"
   ],
   "id": "b5c558419446269a",
   "outputs": [
    {
     "name": "stdout",
     "output_type": "stream",
     "text": [
      "Fibonacci number at position 5 is --> 5\n",
      "Fibonacci sequence up to position 5 is --> [1, 1, 2, 3, 5]\n"
     ]
    }
   ],
   "execution_count": 220
  },
  {
   "metadata": {
    "ExecuteTime": {
     "end_time": "2024-07-10T13:34:50.797255Z",
     "start_time": "2024-07-10T13:34:47.681533Z"
    }
   },
   "cell_type": "code",
   "source": [
    "def fibonacci_dynamic(n):\n",
    "    if n <= 0:\n",
    "        print(\"This man is no condition too **** a sheep\")\n",
    "        return\n",
    "    fib = [0] * (n+1)\n",
    "    fib[1] = 1\n",
    "    if n > 1:\n",
    "        fib[2] = 1\n",
    "    for i in range(3, n+1):\n",
    "        fib[i] = fib[i-1] + fib[i-2]\n",
    "\n",
    "    print(f\"Fibo no at {n} number is --> {fib[n]}\")\n",
    "    print(f\"The seq you want I assume {n} is --> {fib[1:n+1]}\")\n",
    "\n",
    "fibonacci_dynamic(int(input(\"Please enter what fib num you want: \")))\n"
   ],
   "id": "36ebb5aef97e509b",
   "outputs": [
    {
     "name": "stdout",
     "output_type": "stream",
     "text": [
      "Fibo no at 40 number is --> 102334155\n",
      "The seq you want I assume 40 is --> [1, 1, 2, 3, 5, 8, 13, 21, 34, 55, 89, 144, 233, 377, 610, 987, 1597, 2584, 4181, 6765, 10946, 17711, 28657, 46368, 75025, 121393, 196418, 317811, 514229, 832040, 1346269, 2178309, 3524578, 5702887, 9227465, 14930352, 24157817, 39088169, 63245986, 102334155]\n"
     ]
    }
   ],
   "execution_count": 222
  },
  {
   "metadata": {
    "ExecuteTime": {
     "end_time": "2024-07-10T13:48:40.324956Z",
     "start_time": "2024-07-10T13:48:40.322715Z"
    }
   },
   "cell_type": "code",
   "source": [
    "\"\"\"\n",
    "Logaritmaa\n",
    "\"\"\"\n",
    "import numpy as np\n",
    "import math\n",
    "b=5.2\n",
    "print(np.log(b))\n",
    "e=math.e\n",
    "print(e**1.6486586255873816)#finding b "
   ],
   "id": "92bd2bafbbaa6051",
   "outputs": [
    {
     "name": "stdout",
     "output_type": "stream",
     "text": [
      "1.6486586255873816\n",
      "5.199999999999999\n"
     ]
    }
   ],
   "execution_count": 234
  },
  {
   "metadata": {
    "ExecuteTime": {
     "end_time": "2024-07-10T13:59:02.437470Z",
     "start_time": "2024-07-10T13:59:02.434601Z"
    }
   },
   "cell_type": "code",
   "source": [
    "import math\n",
    "softmaxOutput=[0.7,0.1,0.2]\n",
    "targetOutput=[1,0,0]#amk byu nasıl %82\n",
    "loss0=-(math.log(softmaxOutput[0])*targetOutput[0]+\n",
    "       math.log(softmaxOutput[1])*targetOutput[1]+\n",
    "       math.log(softmaxOutput[2])*targetOutput[2])\n",
    "print(loss0)\n",
    "los1=-(math.log(softmaxOutput[0]))\n",
    "print(los1)\n",
    "los2=-(math.log(0.7))\n",
    "print(los2)\n",
    "print((-math.log(0.5)))"
   ],
   "id": "8e59cffbe19f0ab1",
   "outputs": [
    {
     "name": "stdout",
     "output_type": "stream",
     "text": [
      "0.35667494393873245\n",
      "0.35667494393873245\n",
      "0.35667494393873245\n",
      "0.6931471805599453\n"
     ]
    }
   ],
   "execution_count": 241
  },
  {
   "metadata": {
    "ExecuteTime": {
     "end_time": "2024-07-10T23:19:45.735636Z",
     "start_time": "2024-07-10T23:19:45.732586Z"
    }
   },
   "cell_type": "code",
   "source": [
    "import numpy as np\n",
    "softmaxOutputs=np.array([[0.00,0.1,0.2],\n",
    "                         [0.1,0.5,0.4],\n",
    "                         [0.02,0.9,0.08]])\n",
    "classTargets=[0,1,1]\n",
    "print(np.mean(-np.log(softmaxOutputs[[0,1,2],classTargets])))"
   ],
   "id": "ce0e01b6cfe92b17",
   "outputs": [
    {
     "name": "stdout",
     "output_type": "stream",
     "text": [
      "inf\n"
     ]
    },
    {
     "name": "stderr",
     "output_type": "stream",
     "text": [
      "/var/folders/87/f_rcd28534506wfqpzvm2ypm0000gn/T/ipykernel_9778/4051465592.py:6: RuntimeWarning: divide by zero encountered in log\n",
      "  print(np.mean(-np.log(softmaxOutputs[[0,1,2],classTargets])))\n"
     ]
    }
   ],
   "execution_count": 252
  },
  {
   "metadata": {
    "ExecuteTime": {
     "end_time": "2024-07-10T23:54:17.539250Z",
     "start_time": "2024-07-10T23:54:17.530883Z"
    }
   },
   "cell_type": "code",
   "source": [
    "import numpy as np\n",
    "import nnfs\n",
    "from nnfs.datasets import spiral_data\n",
    "nnfs.init()\n",
    "\n",
    "class layerDense:\n",
    "    def __init__(self, nInputs, nNeurons):\n",
    "        self.weights = 0.10 * np.random.randn(nInputs, nNeurons)\n",
    "        self.biases = np.zeros((1, nNeurons))\n",
    "\n",
    "    def forward(self, inputs):\n",
    "        self.output = np.dot(inputs, self.weights) + self.biases\n",
    "\n",
    "class activationReLU:\n",
    "    def forward(self, inputs):\n",
    "        self.output = np.maximum(0, inputs)\n",
    "\n",
    "class activationSoftMax:\n",
    "    def forward(self, inputs):\n",
    "        expValues = np.exp(inputs - np.max(inputs, axis=1, keepdims=True))\n",
    "        probabilities = expValues / np.sum(expValues, axis=1, keepdims=True)\n",
    "        self.output = probabilities\n",
    "        \n",
    "class Loss:\n",
    "    def calculate(self,output,y):\n",
    "        sampleLosses=self.forward(output,y)\n",
    "        dataLosz=np.mean(sampleLosses)\n",
    "        return dataLosz\n",
    "    \n",
    "class LossCategoricalCroszEntrpyi(Loss):\n",
    "    def forward(self,yPredict,yTrue):\n",
    "        samples=len(yPredict)\n",
    "        yPredictClipped=np.clip(yPredict,1e-7,1-1e-7)\n",
    "        \n",
    "        if len(yTrue.shape)==1:\n",
    "            correctConfidences=yPredictClipped[range(samples),yTrue]\n",
    "            \n",
    "        elif len(yTrue.shape)==2:\n",
    "            correctConfidences=np.sum(yPredictClipped*yTrue,axis=1)\n",
    "        negativeLogLikelikoods=-np.log(correctConfidences)\n",
    "        return negativeLogLikelikoods\n",
    "    \n",
    "\n",
    "X, y = spiral_data(100, 3)\n",
    "\n",
    "Dense0 = layerDense(2, 3)\n",
    "activation0 = activationReLU()\n",
    "\n",
    "Dense1 = layerDense(3, 3)\n",
    "activation1 = activationSoftMax()\n",
    "\n",
    "Dense0.forward(X)\n",
    "activation0.forward(Dense0.output)\n",
    "\n",
    "Dense1.forward(activation0.output)\n",
    "activation1.forward(Dense1.output)\n",
    "\n",
    "print(\"Last outputt-->\\n\",activation1.output[:5])\n",
    "\n",
    "lossFunction=LossCategoricalCroszEntrpyi()\n",
    "loss=lossFunction.calculate(activation1.output,y)\n",
    "print(\"\\n----------------------------------------\\n\")\n",
    "print(\"LOSSSZ--> \",loss)"
   ],
   "id": "4fbe41ce04781f89",
   "outputs": [
    {
     "name": "stdout",
     "output_type": "stream",
     "text": [
      "Last outputt-->\n",
      " [[0.33333334 0.33333334 0.33333334]\n",
      " [0.33331734 0.33331832 0.33336434]\n",
      " [0.3332888  0.33329153 0.33341965]\n",
      " [0.33325943 0.33326396 0.33347666]\n",
      " [0.33323312 0.33323926 0.33352762]]\n",
      "\n",
      "----------------------------------------\n",
      "\n",
      "LOSSSZ-->  1.098445\n"
     ]
    }
   ],
   "execution_count": 258
  },
  {
   "metadata": {},
   "cell_type": "code",
   "outputs": [],
   "execution_count": null,
   "source": "",
   "id": "3298e7ab9ca29c3"
  }
 ],
 "metadata": {
  "kernelspec": {
   "display_name": "Python 3",
   "language": "python",
   "name": "python3"
  },
  "language_info": {
   "codemirror_mode": {
    "name": "ipython",
    "version": 2
   },
   "file_extension": ".py",
   "mimetype": "text/x-python",
   "name": "python",
   "nbconvert_exporter": "python",
   "pygments_lexer": "ipython2",
   "version": "2.7.6"
  }
 },
 "nbformat": 4,
 "nbformat_minor": 5
}
