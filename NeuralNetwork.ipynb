{
 "cells": [
  {
   "metadata": {
    "ExecuteTime": {
     "end_time": "2024-07-04T18:56:22.261805Z",
     "start_time": "2024-07-04T18:56:22.119036Z"
    }
   },
   "cell_type": "code",
   "source": [
    "import numpy as np\n",
    "import sys\n",
    "import matplotlib\n",
    "#import pandas as KungfuPanda ahhahahhahah"
   ],
   "id": "596646cd77321126",
   "outputs": [],
   "execution_count": 1
  },
  {
   "metadata": {},
   "cell_type": "markdown",
   "source": "I Want to chechk My Versions soo \n",
   "id": "85db1548744165bc"
  },
  {
   "metadata": {
    "ExecuteTime": {
     "end_time": "2024-07-04T18:58:30.369093Z",
     "start_time": "2024-07-04T18:58:30.364927Z"
    }
   },
   "cell_type": "code",
   "source": [
    "print(\"Numpy Version: \", np.__version__)\n",
    "print(\"Matplotlib Version: \", matplotlib.__version__)\n",
    "print(\"python VErsion:  \",sys.version)\n"
   ],
   "id": "7252a6980b672474",
   "outputs": [
    {
     "name": "stdout",
     "output_type": "stream",
     "text": [
      "Numpy Version:  1.26.4\n",
      "Matplotlib Version:  3.8.3\n",
      "python VErsion:   3.11.5 (main, Sep 11 2023, 08:31:25) [Clang 14.0.6 ]\n"
     ]
    }
   ],
   "execution_count": 5
  },
  {
   "metadata": {
    "ExecuteTime": {
     "end_time": "2024-07-04T20:04:33.873429Z",
     "start_time": "2024-07-04T20:04:33.867710Z"
    }
   },
   "cell_type": "code",
   "source": [
    "inputs=[1,2,3,2.5]\n",
    "\n",
    "weights=[[0.2,0.8,-0.5,1.0],\n",
    "         [0.5,-0.91,0.26,-0.5],\n",
    "         [-0.26,-0.27,0.17,0.87]]\n",
    "\n",
    "biases=[2,3,0.5]\n",
    "\n",
    "\"\"\"birDeger=-0.5\n",
    "weight=0.7\n",
    "bias=0.7\n",
    "\n",
    "print(birDeger*weight)\n",
    "print(\"----------------------\\n\")\n",
    "print(birDeger+bias)\n",
    "\"\"\"\n",
    "\n",
    "\n",
    "\"\"\"\n",
    "#Neuronla oynamacalar h 🧠\n",
    "layerOutputs=[]#outputs of current layer mevcut layerın çıktısı\n",
    "for neuronsWeights,neuronBiases in zip(weights,biases):\n",
    "    neuronOutput=0#o neuronun çıktısı\n",
    "    for nInput,weight in zip(inputs,neuronsWeights):\n",
    "        neuronOutput+=nInput*weight\n",
    "    neuronOutput=neuronOutput+neuronBiases\n",
    "    layerOutputs.append(neuronOutput)\n",
    "print(layerOutputs)\n",
    "\"\"\"\n",
    "\n",
    "\n",
    "\n"
   ],
   "id": "909632189d2160",
   "outputs": [
    {
     "data": {
      "text/plain": [
       "'\\n#Neuronla oynamacalar h 🧠\\nlayerOutputs=[]#outputs of current layer mevcut layerın çıktısı\\nfor neuronsWeights,neuronBiases in zip(weights,biases):\\n    neuronOutput=0#o neuronun çıktısı\\n    for nInput,weight in zip(inputs,neuronsWeights):\\n        neuronOutput+=nInput*weight\\n    neuronOutput=neuronOutput+neuronBiases\\n    layerOutputs.append(neuronOutput)\\nprint(layerOutputs)'"
      ]
     },
     "execution_count": 23,
     "metadata": {},
     "output_type": "execute_result"
    }
   ],
   "execution_count": 23
  },
  {
   "metadata": {},
   "cell_type": "markdown",
   "source": "Numpy ile takılmacalar ",
   "id": "27d6cb2536010ce9"
  },
  {
   "metadata": {
    "ExecuteTime": {
     "end_time": "2024-07-04T20:21:26.358881Z",
     "start_time": "2024-07-04T20:21:26.354053Z"
    }
   },
   "cell_type": "code",
   "source": [
    "import numpy as np\n",
    "weights=[[0.2,0.8,-0.5,1.0],\n",
    "         [0.5,-0.91,0.26,-0.5],\n",
    "         [-0.26,-0.27,0.17,0.87]]\n",
    "\n",
    "biases=[2,3,0.5]\n",
    "\n",
    "bias=2\n",
    "\n",
    "output=np.dot(weights,inputs)+biases\n",
    "print(output)"
   ],
   "id": "77a2343a50cb1edd",
   "outputs": [
    {
     "name": "stdout",
     "output_type": "stream",
     "text": [
      "[4.8   1.21  2.385]\n"
     ]
    }
   ],
   "execution_count": 30
  },
  {
   "metadata": {},
   "cell_type": "code",
   "outputs": [],
   "execution_count": null,
   "source": "",
   "id": "2aa76f862a388480"
  }
 ],
 "metadata": {
  "kernelspec": {
   "display_name": "Python 3",
   "language": "python",
   "name": "python3"
  },
  "language_info": {
   "codemirror_mode": {
    "name": "ipython",
    "version": 2
   },
   "file_extension": ".py",
   "mimetype": "text/x-python",
   "name": "python",
   "nbconvert_exporter": "python",
   "pygments_lexer": "ipython2",
   "version": "2.7.6"
  }
 },
 "nbformat": 4,
 "nbformat_minor": 5
}
