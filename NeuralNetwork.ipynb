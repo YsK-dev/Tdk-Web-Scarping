{
 "cells": [
  {
   "metadata": {
    "ExecuteTime": {
     "end_time": "2024-07-04T18:56:22.261805Z",
     "start_time": "2024-07-04T18:56:22.119036Z"
    }
   },
   "cell_type": "code",
   "source": [
    "import numpy as np\n",
    "import sys\n",
    "import matplotlib\n",
    "#import pandas as KungfuPanda ahhahahhahah"
   ],
   "id": "596646cd77321126",
   "outputs": [],
   "execution_count": 1
  },
  {
   "metadata": {},
   "cell_type": "markdown",
   "source": "I Want to chechk My Versions soo \n",
   "id": "85db1548744165bc"
  },
  {
   "metadata": {
    "ExecuteTime": {
     "end_time": "2024-07-04T18:58:30.369093Z",
     "start_time": "2024-07-04T18:58:30.364927Z"
    }
   },
   "cell_type": "code",
   "source": [
    "print(\"Numpy Version: \", np.__version__)\n",
    "print(\"Matplotlib Version: \", matplotlib.__version__)\n",
    "print(\"python VErsion:  \",sys.version)\n"
   ],
   "id": "7252a6980b672474",
   "outputs": [
    {
     "name": "stdout",
     "output_type": "stream",
     "text": [
      "Numpy Version:  1.26.4\n",
      "Matplotlib Version:  3.8.3\n",
      "python VErsion:   3.11.5 (main, Sep 11 2023, 08:31:25) [Clang 14.0.6 ]\n"
     ]
    }
   ],
   "execution_count": 5
  },
  {
   "metadata": {
    "ExecuteTime": {
     "end_time": "2024-07-04T20:04:33.873429Z",
     "start_time": "2024-07-04T20:04:33.867710Z"
    }
   },
   "cell_type": "code",
   "source": [
    "inputs=[1,2,3,2.5]\n",
    "\n",
    "weights=[[0.2,0.8,-0.5,1.0],\n",
    "         [0.5,-0.91,0.26,-0.5],\n",
    "         [-0.26,-0.27,0.17,0.87]]\n",
    "\n",
    "biases=[2,3,0.5]\n",
    "\n",
    "\"\"\"birDeger=-0.5\n",
    "weight=0.7\n",
    "bias=0.7\n",
    "\n",
    "print(birDeger*weight)\n",
    "print(\"----------------------\\n\")\n",
    "print(birDeger+bias)\n",
    "\"\"\"\n",
    "\n",
    "\n",
    "\"\"\"\n",
    "#Neuronla oynamacalar h 🧠\n",
    "layerOutputs=[]#outputs of current layer mevcut layerın çıktısı\n",
    "for neuronsWeights,neuronBiases in zip(weights,biases):\n",
    "    neuronOutput=0#o neuronun çıktısı\n",
    "    for nInput,weight in zip(inputs,neuronsWeights):\n",
    "        neuronOutput+=nInput*weight\n",
    "    neuronOutput=neuronOutput+neuronBiases\n",
    "    layerOutputs.append(neuronOutput)\n",
    "print(layerOutputs)\n",
    "\"\"\"\n",
    "\n",
    "\n",
    "\n"
   ],
   "id": "909632189d2160",
   "outputs": [
    {
     "data": {
      "text/plain": [
       "'\\n#Neuronla oynamacalar h 🧠\\nlayerOutputs=[]#outputs of current layer mevcut layerın çıktısı\\nfor neuronsWeights,neuronBiases in zip(weights,biases):\\n    neuronOutput=0#o neuronun çıktısı\\n    for nInput,weight in zip(inputs,neuronsWeights):\\n        neuronOutput+=nInput*weight\\n    neuronOutput=neuronOutput+neuronBiases\\n    layerOutputs.append(neuronOutput)\\nprint(layerOutputs)'"
      ]
     },
     "execution_count": 23,
     "metadata": {},
     "output_type": "execute_result"
    }
   ],
   "execution_count": 23
  },
  {
   "metadata": {},
   "cell_type": "markdown",
   "source": "Numpy ile takılmacalar ",
   "id": "27d6cb2536010ce9"
  },
  {
   "metadata": {
    "ExecuteTime": {
     "end_time": "2024-07-04T20:21:26.358881Z",
     "start_time": "2024-07-04T20:21:26.354053Z"
    }
   },
   "cell_type": "code",
   "source": [
    "import numpy as np\n",
    "weights=[[0.2,0.8,-0.5,1.0],\n",
    "         [0.5,-0.91,0.26,-0.5],\n",
    "         [-0.26,-0.27,0.17,0.87]]\n",
    "\n",
    "biases=[2,3,0.5]\n",
    "\n",
    "bias=2\n",
    "\n",
    "output=np.dot(weights,inputs)+biases\n",
    "print(output)"
   ],
   "id": "77a2343a50cb1edd",
   "outputs": [
    {
     "name": "stdout",
     "output_type": "stream",
     "text": [
      "[4.8   1.21  2.385]\n"
     ]
    }
   ],
   "execution_count": 30
  },
  {
   "metadata": {},
   "cell_type": "markdown",
   "source": "Devammm anlıyorum ",
   "id": "8c5f7f9bb7ea5108"
  },
  {
   "metadata": {
    "ExecuteTime": {
     "end_time": "2024-07-04T22:38:15.391345Z",
     "start_time": "2024-07-04T22:38:15.386245Z"
    }
   },
   "cell_type": "code",
   "source": [
    "import numpy as np\n",
    "inputs=[[1,2,3,2.5],\n",
    "        [2.0,5.0,-1.0,2.0],\n",
    "        [-1.5,2.7,3.3,-0.8]]\n",
    "\n",
    "weights=[[0.2,0.8,-0.5,1.0],\n",
    "         [0.5,-0.91,0.26,-0.5],\n",
    "         [-0.26,-0.27,0.17,0.87]]\n",
    "\n",
    "biases=[2,3,0.5]\n",
    "\n",
    "#ikinicisi geliyor \n",
    "weights2=[[0.1,-0.14,0.5],\n",
    "         [-0.5,0.12,-0.33],\n",
    "         [-0.44,0.73,-0.13]]\n",
    "\n",
    "biases2=[-1,2,-0.5]\n",
    "\n",
    "#matris işlemleri için adjustmentlar \n",
    "\n",
    "\n",
    "\n",
    "\n",
    "layer1Output=np.dot(inputs,np.array(weights).T)+biases\n",
    "#Transpozunu Alıyorum )+biases#.reshape(-1,1) buna ihtiyaç yok şimdilik \n",
    "print(layer1Output)\n",
    "#diğer layer dikkat birinin outputu diğerini inputu \n",
    "layer2Output=np.dot(layer1Output,np.array(weights2).T)+biases2\n",
    "print(\"\\n--------Görmek için-------------\\n\")\n",
    "print(layer2Output)\n"
   ],
   "id": "2aa76f862a388480",
   "outputs": [
    {
     "name": "stdout",
     "output_type": "stream",
     "text": [
      "[[ 4.8    1.21   2.385]\n",
      " [ 8.9   -1.81   0.2  ]\n",
      " [ 1.41   1.051  0.026]]\n",
      "\n",
      "--------Görmek için-------------\n",
      "\n",
      "[[ 0.5031  -1.04185 -2.03875]\n",
      " [ 0.2434  -2.7332  -5.7633 ]\n",
      " [-0.99314  1.41254 -0.35655]]\n"
     ]
    }
   ],
   "execution_count": 55
  },
  {
   "metadata": {
    "ExecuteTime": {
     "end_time": "2024-07-04T23:25:46.054034Z",
     "start_time": "2024-07-04T23:25:46.047957Z"
    }
   },
   "cell_type": "code",
   "source": [
    "import numpy as np\n",
    "np.random.seed(0)\n",
    "X=[[1,2,3,2.5],\n",
    "   [2.0,5.0,-1.0,2.0],\n",
    "   [-1.5,2.7,3.3,-0.8]]\n",
    "\n",
    "class layerDense:\n",
    "    def __init__(self,nInputs,nNeurons):\n",
    "        self.weights=0.10*np.random.randn(nInputs,nNeurons)\n",
    "        self.biases=np.zeros((1,nNeurons))\n",
    "    def forward(self,inputs):\n",
    "        self.output=np.dot(inputs,self.weights)+self.biases\n",
    "    \n",
    "    \n",
    "layer1=layerDense(4,5)\n",
    "layer2=layerDense(5,2)\n",
    "layer1.forward(X)\n",
    "print(\"OUTPUT--> \\n\",layer1.output)\n",
    "print(\"\\n----------------\\n\")\n",
    "\n",
    "layer2.forward(layer1.output)\n",
    "print(\"OUTPUT--> \\n\",layer2.output)\n",
    "print(\"\\n----------------\\n\")\n",
    "\n",
    "\"\"\"\n",
    "print(layer1.weights)\n",
    "print(\"---------------------\\n\")\n",
    "print(layer1.biases)\n",
    "print(\"---------------------\\n\")\n",
    "\n",
    "\n",
    "print(\"---------------------\\n\")\n",
    "\n",
    "print(layer1)\n",
    "\n",
    "\"\"\"\n"
   ],
   "id": "874dfb1b5b5b2fb",
   "outputs": [
    {
     "name": "stdout",
     "output_type": "stream",
     "text": [
      "OUTPUT--> \n",
      " [[ 0.10758131  1.03983522  0.24462411  0.31821498  0.18851053]\n",
      " [-0.08349796  0.70846411  0.00293357  0.44701525  0.36360538]\n",
      " [-0.50763245  0.55688422  0.07987797 -0.34889573  0.04553042]]\n",
      "\n",
      "----------------\n",
      "\n",
      "OUTPUT--> \n",
      " [[ 0.148296   -0.08397602]\n",
      " [ 0.14100315 -0.01340469]\n",
      " [ 0.20124979 -0.07290616]]\n",
      "\n",
      "----------------\n",
      "\n"
     ]
    },
    {
     "data": {
      "text/plain": [
       "'\\nprint(layer1.weights)\\nprint(\"---------------------\\n\")\\nprint(layer1.biases)\\nprint(\"---------------------\\n\")\\n\\n\\nprint(\"---------------------\\n\")\\n\\nprint(layer1)\\n\\n'"
      ]
     },
     "execution_count": 86,
     "metadata": {},
     "output_type": "execute_result"
    }
   ],
   "execution_count": 86
  },
  {
   "metadata": {
    "ExecuteTime": {
     "end_time": "2024-07-04T23:20:34.762292Z",
     "start_time": "2024-07-04T23:20:34.757812Z"
    }
   },
   "cell_type": "code",
   "source": [
    "import numpy as np\n",
    "#from layer import Layer\n",
    "\n",
    "class Dense:\n",
    "    def __init__(self, input_size, output_size):\n",
    "        self.weights = 0.10*np.random.randn(output_size, input_size)\n",
    "        self.bias = np.random.randn(output_size, 1)\n",
    "\n",
    "    def forward(self, inputs):\n",
    "        self.output=np.dot(inputs,self.weights,) + self.bias\n",
    "       \n",
    "    \n",
    "layer1=Dense(4,5)\n"
   ],
   "id": "af23af41b0b6f4a",
   "outputs": [],
   "execution_count": 82
  },
  {
   "metadata": {},
   "cell_type": "code",
   "outputs": [],
   "execution_count": null,
   "source": "",
   "id": "e68fc0dc66987ed4"
  }
 ],
 "metadata": {
  "kernelspec": {
   "display_name": "Python 3",
   "language": "python",
   "name": "python3"
  },
  "language_info": {
   "codemirror_mode": {
    "name": "ipython",
    "version": 2
   },
   "file_extension": ".py",
   "mimetype": "text/x-python",
   "name": "python",
   "nbconvert_exporter": "python",
   "pygments_lexer": "ipython2",
   "version": "2.7.6"
  }
 },
 "nbformat": 4,
 "nbformat_minor": 5
}
