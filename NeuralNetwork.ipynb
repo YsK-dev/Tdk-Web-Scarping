{
 "cells": [
  {
   "metadata": {
    "ExecuteTime": {
     "end_time": "2024-07-04T18:56:22.261805Z",
     "start_time": "2024-07-04T18:56:22.119036Z"
    }
   },
   "cell_type": "code",
   "source": [
    "import numpy as np\n",
    "import sys\n",
    "import matplotlib\n",
    "#import pandas as KungfuPanda ahhahahhahah"
   ],
   "id": "596646cd77321126",
   "outputs": [],
   "execution_count": 1
  },
  {
   "metadata": {},
   "cell_type": "markdown",
   "source": "I Want to chechk My Versions soo \n",
   "id": "85db1548744165bc"
  },
  {
   "metadata": {
    "ExecuteTime": {
     "end_time": "2024-07-04T18:58:30.369093Z",
     "start_time": "2024-07-04T18:58:30.364927Z"
    }
   },
   "cell_type": "code",
   "source": [
    "print(\"Numpy Version: \", np.__version__)\n",
    "print(\"Matplotlib Version: \", matplotlib.__version__)\n",
    "print(\"python VErsion:  \",sys.version)\n"
   ],
   "id": "7252a6980b672474",
   "outputs": [
    {
     "name": "stdout",
     "output_type": "stream",
     "text": [
      "Numpy Version:  1.26.4\n",
      "Matplotlib Version:  3.8.3\n",
      "python VErsion:   3.11.5 (main, Sep 11 2023, 08:31:25) [Clang 14.0.6 ]\n"
     ]
    }
   ],
   "execution_count": 5
  },
  {
   "metadata": {
    "ExecuteTime": {
     "end_time": "2024-07-04T19:25:56.699213Z",
     "start_time": "2024-07-04T19:25:56.693749Z"
    }
   },
   "cell_type": "code",
   "source": [
    "inputs=[1,2,3,2.5]\n",
    "weights0=[0.2,0.8,-0.5,1.0]\n",
    "weights1=[0.5,-0.91,0.26,-0.5]\n",
    "weights2=[-0.26,-0.27,0.17,0.87]\n",
    "\n",
    "bias0=2\n",
    "bias1=3\n",
    "bias2=0.5\n",
    "\n",
    "\n",
    "\n",
    "outputs=[inputs[0]*weights0[0]+inputs[1]*weights0[1]+inputs[2]*weights0[2]+inputs[3]*weights0[3]+bias0,\n",
    "         inputs[0]*weights1[0]+inputs[1]*weights1[1]+inputs[2]*weights1[2]+inputs[3]*weights1[3]+bias1,\n",
    "         inputs[0]*weights2[0]+inputs[1]*weights2[1]+inputs[2]*weights2[2]+inputs[3]*weights2[3]+bias2]\n",
    "         \n",
    "         \n",
    "         \n",
    "\n",
    "print(\"Iste Output--> \",outputs)\n"
   ],
   "id": "909632189d2160",
   "outputs": [
    {
     "name": "stdout",
     "output_type": "stream",
     "text": [
      "Iste Output-->  [4.8, 1.21, 2.385]\n"
     ]
    }
   ],
   "execution_count": 14
  },
  {
   "metadata": {},
   "cell_type": "code",
   "outputs": [],
   "execution_count": null,
   "source": "",
   "id": "77a2343a50cb1edd"
  }
 ],
 "metadata": {
  "kernelspec": {
   "display_name": "Python 3",
   "language": "python",
   "name": "python3"
  },
  "language_info": {
   "codemirror_mode": {
    "name": "ipython",
    "version": 2
   },
   "file_extension": ".py",
   "mimetype": "text/x-python",
   "name": "python",
   "nbconvert_exporter": "python",
   "pygments_lexer": "ipython2",
   "version": "2.7.6"
  }
 },
 "nbformat": 4,
 "nbformat_minor": 5
}
