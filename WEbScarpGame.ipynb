{
 "cells": [
  {
   "metadata": {
    "ExecuteTime": {
     "end_time": "2024-07-03T18:05:14.840482Z",
     "start_time": "2024-07-03T18:05:14.702456Z"
    }
   },
   "cell_type": "code",
   "source": "",
   "id": "2637f66fb0ec932f",
   "outputs": [],
   "execution_count": 1
  },
  {
   "metadata": {
    "ExecuteTime": {
     "end_time": "2024-07-03T18:05:16.308413Z",
     "start_time": "2024-07-03T18:05:16.306121Z"
    }
   },
   "cell_type": "code",
   "source": "",
   "id": "5108ee5fe9e174d0",
   "outputs": [],
   "execution_count": 2
  },
  {
   "metadata": {
    "ExecuteTime": {
     "end_time": "2024-07-03T18:11:36.680332Z",
     "start_time": "2024-07-03T18:11:36.665762Z"
    }
   },
   "cell_type": "code",
   "source": "\n",
   "id": "6064518bc24a5f77",
   "outputs": [
    {
     "ename": "NameError",
     "evalue": "name 'HTMLSession' is not defined",
     "output_type": "error",
     "traceback": [
      "\u001B[0;31m---------------------------------------------------------------------------\u001B[0m",
      "\u001B[0;31mNameError\u001B[0m                                 Traceback (most recent call last)",
      "Cell \u001B[0;32mIn[5], line 1\u001B[0m\n\u001B[0;32m----> 1\u001B[0m response \u001B[38;5;241m=\u001B[39m HTMLSession()\u001B[38;5;241m.\u001B[39mget(URL)\n",
      "\u001B[0;31mNameError\u001B[0m: name 'HTMLSession' is not defined"
     ]
    }
   ],
   "execution_count": 5
  },
  {
   "metadata": {
    "ExecuteTime": {
     "end_time": "2024-07-03T18:05:23.211051Z",
     "start_time": "2024-07-03T18:05:23.196505Z"
    }
   },
   "cell_type": "code",
   "source": "",
   "id": "a1f1c4e647503ab7",
   "outputs": [
    {
     "ename": "NameError",
     "evalue": "name 'response' is not defined",
     "output_type": "error",
     "traceback": [
      "\u001B[0;31m---------------------------------------------------------------------------\u001B[0m",
      "\u001B[0;31mNameError\u001B[0m                                 Traceback (most recent call last)",
      "Cell \u001B[0;32mIn[4], line 1\u001B[0m\n\u001B[0;32m----> 1\u001B[0m response\u001B[38;5;241m.\u001B[39mtext\n",
      "\u001B[0;31mNameError\u001B[0m: name 'response' is not defined"
     ]
    }
   ],
   "execution_count": 4
  },
  {
   "metadata": {},
   "cell_type": "code",
   "outputs": [],
   "execution_count": null,
   "source": "",
   "id": "fcba7b5a5554d108"
  },
  {
   "cell_type": "code",
   "id": "initial_id",
   "metadata": {
    "collapsed": true,
    "ExecuteTime": {
     "end_time": "2024-07-03T18:38:19.050042Z",
     "start_time": "2024-07-03T18:38:19.044891Z"
    }
   },
   "source": [
    "import requests\n",
    "from selenium.webdriver.support import expected_conditions as EC\n",
    "from selenium import webdriver\n",
    "from selenium.webdriver.chrome.service import Service\n",
    "from selenium.webdriver.common.keys import Keys\n",
    "from selenium.webdriver.common.by import By\n",
    "from selenium.webdriver.support.ui import WebDriverWait\n",
    "from selenium.common.exceptions import NoSuchElementException\n",
    "from selenium.common.exceptions import NoSuchWindowException\n",
    "\n",
    "from selenium.common.exceptions import StaleElementReferenceException\n",
    "from selenium.common.exceptions import TimeoutException\n",
    "from webdriver_manager.chrome import ChromeDriverManager\n",
    "import time\n",
    "import pandas as pd\n",
    "import numpy as np\n",
    "import random\n",
    "\n",
    "\n"
   ],
   "outputs": [],
   "execution_count": 52
  },
  {
   "metadata": {
    "ExecuteTime": {
     "end_time": "2024-07-03T18:44:19.977568Z",
     "start_time": "2024-07-03T18:44:18.251009Z"
    }
   },
   "cell_type": "code",
   "source": [
    "\n",
    "options = webdriver.ChromeOptions()\n",
    "options.add_argument('--start-maximized ')  # starts the browser in maximized window    --headless\n",
    "\n",
    "options.add_argument('--disable-extensions')  # disables browser extensions\n",
    "options.add_argument('--disable-gpu')  # disables hardware acceleration I dont have gpu MsI hear me I want 4090\n",
    "driver = webdriver.Chrome(service=Service(ChromeDriverManager().install()),options=options)\n"
   ],
   "id": "d5f263676be51c8a",
   "outputs": [],
   "execution_count": 62
  },
  {
   "metadata": {
    "ExecuteTime": {
     "end_time": "2024-07-03T18:44:21.638856Z",
     "start_time": "2024-07-03T18:44:19.981843Z"
    }
   },
   "cell_type": "code",
   "source": "driver = webdriver.Chrome(service=Service(ChromeDriverManager().install()), options=options)\n",
   "id": "3edf5c4c913b5eff",
   "outputs": [],
   "execution_count": 63
  },
  {
   "metadata": {
    "ExecuteTime": {
     "end_time": "2024-07-03T18:44:23.961772Z",
     "start_time": "2024-07-03T18:44:21.639949Z"
    }
   },
   "cell_type": "code",
   "source": [
    "driver.get('https://sozluk.gov.tr/')\n",
    "print(driver.title)"
   ],
   "id": "d712cc44a9d0cabe",
   "outputs": [
    {
     "name": "stdout",
     "output_type": "stream",
     "text": [
      "Türk Dil Kurumu Sözlükleri\n"
     ]
    }
   ],
   "execution_count": 64
  },
  {
   "metadata": {
    "ExecuteTime": {
     "end_time": "2024-07-03T18:44:25.776583Z",
     "start_time": "2024-07-03T18:44:25.333007Z"
    }
   },
   "cell_type": "code",
   "source": [
    "# TDK nın sitesine gidiyorum\n",
    "driver.get('https://sozluk.gov.tr/')\n",
    "print(driver.title)\n",
    "\n",
    "# biraz bekliyorum arama için \n",
    "wait = WebDriverWait(driver, 10)\n",
    "search = wait.until(EC.presence_of_element_located((By.NAME, \"q\")))\n"
   ],
   "id": "ef7a6fcc54c8d79b",
   "outputs": [
    {
     "name": "stdout",
     "output_type": "stream",
     "text": [
      "Türk Dil Kurumu Sözlükleri\n"
     ]
    }
   ],
   "execution_count": 65
  },
  {
   "metadata": {
    "ExecuteTime": {
     "end_time": "2024-07-03T18:45:28.501630Z",
     "start_time": "2024-07-03T18:45:28.290054Z"
    }
   },
   "cell_type": "code",
   "source": [
    " \n",
    " # deneme için bir arama yapıyorum belkide aşkı burda bulurum ....😔😔😔😔 \n",
    "search.send_keys(\"Aşk\")\n",
    "search.send_keys(Keys.RETURN)\n",
    "\n"
   ],
   "id": "607aef5a049580e3",
   "outputs": [],
   "execution_count": 67
  },
  {
   "metadata": {
    "ExecuteTime": {
     "end_time": "2024-07-03T18:45:40.232861Z",
     "start_time": "2024-07-03T18:45:29.338815Z"
    }
   },
   "cell_type": "code",
   "source": [
    "words = [\"aşk\", \"sevgi\", \"dostluk\", \"korku\", \"umut\", \"hayat\", \"insan\", \"yol\", \"mutluluk\", \"sabah\"]\n",
    "\n",
    "# Search for random words\n",
    "for _ in range(5):  # Change the range value to the number of searches you want to perform\n",
    "    word = random.choice(words)\n",
    "    search.clear()\n",
    "    search.send_keys(word)\n",
    "    search.send_keys(Keys.RETURN)\n",
    "    time.sleep(2)  # Wait for a couple of seconds to view the result before performing the next search\n",
    "    print(f\"Şu kelime: '{word}' Aratıldı \")\n",
    "    search = wait.until(EC.presence_of_element_located((By.NAME, \"q\")))\n"
   ],
   "id": "fc98a9023b73d792",
   "outputs": [
    {
     "name": "stdout",
     "output_type": "stream",
     "text": [
      "Şu kelime: 'sabah' Aratıldı \n",
      "Şu kelime: 'sabah' Aratıldı \n",
      "Şu kelime: 'insan' Aratıldı \n",
      "Şu kelime: 'umut' Aratıldı \n",
      "Şu kelime: 'sabah' Aratıldı \n"
     ]
    }
   ],
   "execution_count": 68
  },
  {
   "metadata": {
    "ExecuteTime": {
     "end_time": "2024-07-03T18:46:12.691340Z",
     "start_time": "2024-07-03T18:45:43.305407Z"
    }
   },
   "cell_type": "code",
   "source": [
    "for _ in range(5):  # Change the range value to the number of searches you want to perform\n",
    "    word = random.choice(words)\n",
    "    search.clear()\n",
    "    search.send_keys(word)\n",
    "    search.send_keys(Keys.RETURN)\n",
    "    time.sleep(2)  # Wait for a couple of seconds to view the result before performing the next action\n",
    "\n",
    "    try:\n",
    "        # button tıklanabilmesini bekle ve tıkla \"click\"\n",
    "        button = wait.until(EC.element_to_be_clickable((By.XPATH, '//*[@id=\"headingOne\"]/h5/button')))\n",
    "        button.click()\n",
    "        print(f\"Ben şu Kelimeyi aradım: '{word}' ve tıkladım\")\n",
    "\n",
    "        # biraz beklesin ki göreyim ya :)\n",
    "        time.sleep(2)\n",
    "\n",
    "    except (NoSuchElementException, TimeoutException) as e:\n",
    "        print(f\"Böyle bir kelime bulamadım :/:' {word}'\")\n",
    "\n",
    "    # Locate the search input element again for the next search\n",
    "    #arama barına random inputu ekleyip tekrardan devam \n",
    "    search = wait.until(EC.presence_of_element_located((By.NAME, \"q\")))\n",
    "\n"
   ],
   "id": "c8fad3628670252d",
   "outputs": [
    {
     "name": "stdout",
     "output_type": "stream",
     "text": [
      "Ben şu Kelimeyi aradım: 'hayat' ve tıkladım\n",
      "Ben şu Kelimeyi aradım: 'sevgi' ve tıkladım\n",
      "Ben şu Kelimeyi aradım: 'korku' ve tıkladım\n",
      "Ben şu Kelimeyi aradım: 'korku' ve tıkladım\n",
      "Böyle bir kelime bulamadım :/:' mutluluk'\n"
     ]
    }
   ],
   "execution_count": 69
  },
  {
   "metadata": {
    "ExecuteTime": {
     "end_time": "2024-07-03T18:46:15.822158Z",
     "start_time": "2024-07-03T18:46:15.708025Z"
    }
   },
   "cell_type": "code",
   "source": [
    "df = pd.DataFrame(data)\n",
    "df.to_csv('tdk_data.csv', index=False)\n",
    "\n",
    "\n",
    "# and quit browser\n",
    "driver.quit()"
   ],
   "id": "168435b25d93dadb",
   "outputs": [],
   "execution_count": 70
  },
  {
   "metadata": {
    "ExecuteTime": {
     "end_time": "2024-07-03T19:03:24.558217Z",
     "start_time": "2024-07-03T19:02:58.732593Z"
    }
   },
   "cell_type": "code",
   "source": [
    "\n",
    "# benim değerli importlarım çok sıkıntı yaşadım onlarla halada yaşıyorum :/\n",
    "import requests\n",
    "from selenium.webdriver.support import expected_conditions as EC\n",
    "from selenium import webdriver\n",
    "from selenium.webdriver.chrome.service import Service\n",
    "from selenium.webdriver.common.keys import Keys\n",
    "from selenium.webdriver.common.by import By\n",
    "from selenium.webdriver.support.ui import WebDriverWait\n",
    "from selenium.common.exceptions import NoSuchElementException\n",
    "from selenium.common.exceptions import NoSuchWindowException\n",
    "from selenium.common.exceptions import StaleElementReferenceException\n",
    "from selenium.common.exceptions import TimeoutException\n",
    "from webdriver_manager.chrome import ChromeDriverManager\n",
    "import time\n",
    "import pandas as pd\n",
    "import numpy as np\n",
    "import random\n",
    "\n",
    "# Lanet olası chrome ayarlıyorum keşke onca başka browser kullanaydım \n",
    "options = webdriver.ChromeOptions()\n",
    "options.add_argument('--start-maximized')  # Starts the browser in maximized window\n",
    "options.add_argument('--disable-extensions')  # Disables browser extensions\n",
    "options.add_argument('--disable-gpu')  # Disables hardware acceleration\n",
    "\n",
    "# chrome u başlatıyomm\n",
    "driver = webdriver.Chrome(service=Service(ChromeDriverManager().install()), options=options)\n",
    "\n",
    "# lanet tdk nın sitesini açıyorum ben bile daha iyi bir fornt yapardım buna :)\n",
    "driver.get('https://sozluk.gov.tr/')\n",
    "print(driver.title)\n",
    "\n",
    "# bir sıkıntı çıkmadığına emin olamk için bekliyorum\n",
    "wait = WebDriverWait(driver, 10)\n",
    "search = wait.until(EC.presence_of_element_located((By.NAME, \"q\")))\n",
    "\n",
    "# random şekilde seçtiğim kelimler belki eklem ve çıkartmalar yaparım \n",
    "words = [\"aşk\", \"sevgi\", \"dostluk\", \"korku\", \"umut\", \"hayat\", \"insan\", \"yol\", \"mutluluk\", \"sabah\"]\n",
    "\n",
    "#bir tane boş array muq😘\n",
    "datam = []\n",
    "\n",
    "# o seçtiğim kelimelri random bir şekilde seçip aratıyom  \n",
    "for _ in range(5):  # şimdilik 5 tane yazıktır mac ime burası zaten cehhhennnem sıcağıı\n",
    "    wordl = random.choice(words)\n",
    "    search.clear()\n",
    "    search.send_keys(wordl)\n",
    "    search.send_keys(Keys.RETURN)\n",
    "    time.sleep(2)  # biraz daha bekliyorum burda görmek istiyorum  \n",
    "\n",
    "    try:\n",
    "        # Button tıklanabilir hale gelince tıklıyorum ve buuum 💣💥💣💥💣💥\n",
    "        button = wait.until(EC.element_to_be_clickable((By.XPATH, '//*[@id=\"headingOne\"]/h5/button')))\n",
    "        button.click()\n",
    "        print(f\"Ben şu Kelimeyi aradım: '{wordl}' ve tıkladım\")\n",
    "\n",
    "        # içeriğin yüklenmesi için biraz faha beklemek işte \n",
    "        time.sleep(2)\n",
    "\n",
    "        # bana lazım olan datayı yani atasozunu alıyorum burda \n",
    "        content = driver.find_element(By.XPATH, '//*[@id=\"ataSozler-gts0\"]').text\n",
    "        data.append({'word': wordl, 'content': content})\n",
    "\n",
    "    except (NoSuchElementException, TimeoutException) as e:\n",
    "        print(f\"Böyle bir kelime bulamadım :/:' {wordl}'\")# inşallah böyle bir sorun çıkmazz 🙏🙏🙏🙏\n",
    "\n",
    "    #arama barına random inputu ekleyip tekrardan devam \n",
    "    search = wait.until(EC.presence_of_element_located((By.NAME, \"q\")))\n",
    "\n",
    "# bir dataframe oluşturup datayı kaydediyorum \n",
    "myDataFramemim = pd.DataFrame(datam)\n",
    "myDataFramemim.to_csv('tdk_data.csv', index=False)\n",
    "\n",
    "# ve kapanışşş\n",
    "driver.quit()\n"
   ],
   "id": "ff7b31026e9e32b3",
   "outputs": [
    {
     "name": "stdout",
     "output_type": "stream",
     "text": [
      "Türk Dil Kurumu Sözlükleri\n",
      "Ben şu Kelimeyi aradım: 'dostluk' ve tıkladım\n",
      "Ben şu Kelimeyi aradım: 'dostluk' ve tıkladım\n",
      "Ben şu Kelimeyi aradım: 'yol' ve tıkladım\n",
      "Ben şu Kelimeyi aradım: 'umut' ve tıkladım\n",
      "Ben şu Kelimeyi aradım: 'sevgi' ve tıkladım\n"
     ]
    }
   ],
   "execution_count": 72
  },
  {
   "metadata": {},
   "cell_type": "code",
   "outputs": [],
   "execution_count": null,
   "source": "",
   "id": "4c1e1254e01eb1b5"
  }
 ],
 "metadata": {
  "kernelspec": {
   "display_name": "Python 3",
   "language": "python",
   "name": "python3"
  },
  "language_info": {
   "codemirror_mode": {
    "name": "ipython",
    "version": 2
   },
   "file_extension": ".py",
   "mimetype": "text/x-python",
   "name": "python",
   "nbconvert_exporter": "python",
   "pygments_lexer": "ipython2",
   "version": "2.7.6"
  }
 },
 "nbformat": 4,
 "nbformat_minor": 5
}
